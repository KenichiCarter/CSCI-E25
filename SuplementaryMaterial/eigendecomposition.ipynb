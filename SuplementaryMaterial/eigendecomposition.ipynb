{
 "cells": [
  {
   "cell_type": "markdown",
   "id": "c3dc0d52",
   "metadata": {},
   "source": [
    "## Examples of Eigendecomposition\n",
    "\n",
    "This notebook contains some simple examples of eigendecomposition. \n",
    "\n",
    "### Example for simple 2x2 matrix"
   ]
  },
  {
   "cell_type": "code",
   "execution_count": null,
   "id": "d2bb548f",
   "metadata": {},
   "outputs": [],
   "source": [
    "import numpy as np\n",
    "import numpy.random as nr\n",
    "import matplotlib.pyplot as plt\n",
    "%matplotlib inline\n",
    "\n",
    "A = np.array([[1,3], [3, 1]])\n",
    "A"
   ]
  },
  {
   "cell_type": "code",
   "execution_count": null,
   "id": "3ef3324a",
   "metadata": {},
   "outputs": [],
   "source": [
    "eigs, Q = np.linalg.eig(A)\n",
    "print(np.diag(eigs))\n",
    "print(Q)"
   ]
  },
  {
   "cell_type": "code",
   "execution_count": null,
   "id": "a3b8bd96",
   "metadata": {},
   "outputs": [],
   "source": [
    "# Reconstruct the original matrix\n",
    "np.dot(Q, np.dot(np.diag(eigs), np.transpose(Q)))"
   ]
  },
  {
   "cell_type": "code",
   "execution_count": null,
   "id": "698262e4",
   "metadata": {},
   "outputs": [],
   "source": [
    "## Q is unitary\n",
    "np.linalg.norm(Q, axis=0)"
   ]
  },
  {
   "cell_type": "code",
   "execution_count": null,
   "id": "5f8c6da9",
   "metadata": {},
   "outputs": [],
   "source": [
    "# Q is unitary\n",
    "np.linalg.norm(Q, axis=1)"
   ]
  },
  {
   "cell_type": "code",
   "execution_count": null,
   "id": "25ba1204",
   "metadata": {},
   "outputs": [],
   "source": [
    "# Eigenvectors are orthogonal\n",
    "np.dot(Q[0,:],Q[1,:])"
   ]
  },
  {
   "cell_type": "code",
   "execution_count": null,
   "id": "5d1cdad7",
   "metadata": {},
   "outputs": [],
   "source": [
    "# Eigenvectors are orthogonal\n",
    "np.dot(Q[:,0],Q[:,1])"
   ]
  },
  {
   "cell_type": "code",
   "execution_count": null,
   "id": "912867dc",
   "metadata": {},
   "outputs": [],
   "source": [
    "Q_inv = np.linalg.inv(Q)\n",
    "print(Q_inv)\n",
    "print(np.dot(Q, Q_inv))"
   ]
  },
  {
   "cell_type": "code",
   "execution_count": null,
   "id": "5db19ffb",
   "metadata": {},
   "outputs": [],
   "source": [
    "# For real Q transpose = inverse  \n",
    "np.dot(Q, np.transpose(Q))"
   ]
  },
  {
   "cell_type": "code",
   "execution_count": null,
   "id": "2a76d81e",
   "metadata": {},
   "outputs": [],
   "source": [
    "Cond_num = abs(eigs[0]/eigs[1])\n",
    "Cond_num"
   ]
  },
  {
   "cell_type": "markdown",
   "id": "94791202",
   "metadata": {},
   "source": [
    "## Finding an inverse with eigenvalues  "
   ]
  },
  {
   "cell_type": "code",
   "execution_count": null,
   "id": "b1d7707d",
   "metadata": {},
   "outputs": [],
   "source": [
    "inverse_eigs = np.diag(1.0/eigs)\n",
    "inverse_eigs"
   ]
  },
  {
   "cell_type": "code",
   "execution_count": null,
   "id": "2aaffef7",
   "metadata": {},
   "outputs": [],
   "source": [
    "A_inv = np.dot(Q, np.dot(inverse_eigs, np.transpose(Q)))\n",
    "A_inv"
   ]
  },
  {
   "cell_type": "code",
   "execution_count": null,
   "id": "a0921d91",
   "metadata": {},
   "outputs": [],
   "source": [
    "# Verify the result\n",
    "np.dot(A_inv, A)"
   ]
  },
  {
   "cell_type": "markdown",
   "id": "bc01105b",
   "metadata": {},
   "source": [
    "### Eigenvalues and Rank"
   ]
  },
  {
   "cell_type": "code",
   "execution_count": null,
   "id": "d5cdfcaa",
   "metadata": {},
   "outputs": [],
   "source": [
    "B = np.array([[3,-3,6],\n",
    "            [2,-2,4],\n",
    "            [1, -1, 2]])\n",
    "print(B)"
   ]
  },
  {
   "cell_type": "code",
   "execution_count": null,
   "id": "aa32c6e8",
   "metadata": {},
   "outputs": [],
   "source": [
    "B_eigs, B_Q = np.linalg.eig(B)\n",
    "print(B_eigs)\n",
    "print(B_Q)"
   ]
  },
  {
   "cell_type": "code",
   "execution_count": null,
   "id": "56caa686",
   "metadata": {},
   "outputs": [],
   "source": [
    "Cond_num = abs(B_eigs[0]/B_eigs[2])\n",
    "Cond_num"
   ]
  },
  {
   "cell_type": "markdown",
   "id": "07fd90da",
   "metadata": {},
   "source": [
    "### Example with Data"
   ]
  },
  {
   "cell_type": "code",
   "execution_count": null,
   "id": "072b986a",
   "metadata": {},
   "outputs": [],
   "source": [
    "nr.seed(124)\n",
    "cov = np.array([[1.0, 0.6], [0.6, 1.0]])\n",
    "mean = np.array([0.0, 0.0])\n",
    "\n",
    "sample = nr.multivariate_normal(mean, cov, 100)\n",
    "\n",
    "plt.scatter(sample[:,0], sample[:,1])\n",
    "plt.xlabel('Dimension 1')\n",
    "plt.ylabel('Dimension 2')\n",
    "plt.title('Sample data')"
   ]
  },
  {
   "cell_type": "code",
   "execution_count": null,
   "id": "679e1b4e",
   "metadata": {},
   "outputs": [],
   "source": [
    "cov_sample = np.matmul(np.transpose(sample), sample)\n",
    "cov_sample"
   ]
  },
  {
   "cell_type": "code",
   "execution_count": null,
   "id": "342a458e",
   "metadata": {},
   "outputs": [],
   "source": [
    "sample_eigs, sample_Q = np.linalg.eig(cov_sample)\n",
    "print(sample_eigs)\n",
    "print(sample_Q)"
   ]
  },
  {
   "cell_type": "code",
   "execution_count": null,
   "id": "a1fed317",
   "metadata": {},
   "outputs": [],
   "source": [
    "print('Condition number = ' + str(np.max(sample_eigs)/np.min(sample_eigs)))"
   ]
  },
  {
   "cell_type": "code",
   "execution_count": null,
   "id": "2c99563d",
   "metadata": {},
   "outputs": [],
   "source": [
    "## Example with more extreme covariance\n",
    "nr.seed(1233)\n",
    "cov = np.array([[1.0, 0.99], [0.99, 1.0]])\n",
    "mean = np.array([0.0, 0.0])\n",
    "\n",
    "sample_2 = nr.multivariate_normal(mean, cov, 100)\n",
    "\n",
    "plt.scatter(sample_2[:,0], sample_2[:,1])\n",
    "plt.xlabel('Dimension 1')\n",
    "plt.ylabel('Dimension 2')\n",
    "plt.title('Sample data')"
   ]
  },
  {
   "cell_type": "code",
   "execution_count": null,
   "id": "5e2b0ff5",
   "metadata": {},
   "outputs": [],
   "source": [
    "cov_sample_2 = np.matmul(np.transpose(sample_2), sample_2)\n",
    "cov_sample_2"
   ]
  },
  {
   "cell_type": "code",
   "execution_count": null,
   "id": "eb610932",
   "metadata": {},
   "outputs": [],
   "source": [
    "sample_2_eigs, sample_2_Q = np.linalg.eig(cov_sample_2)\n",
    "print(sample_2_eigs)\n",
    "print(sample_2_Q)"
   ]
  },
  {
   "cell_type": "code",
   "execution_count": null,
   "id": "a3746202",
   "metadata": {},
   "outputs": [],
   "source": [
    "print('Condition number = ' + str(np.max(sample_2_eigs)/np.min(sample_2_eigs)))"
   ]
  },
  {
   "cell_type": "code",
   "execution_count": null,
   "id": "515b087b",
   "metadata": {},
   "outputs": [],
   "source": [
    "# Verify the eigenvectors are orthogonal  \n",
    "print('Dot product of columns = ' + str(np.dot(sample_2_Q[:,0],sample_2_Q[:,1])))\n",
    "print('Dot product of rows = ' + str(np.dot(sample_2_Q[0,:],sample_2_Q[1,:])))"
   ]
  },
  {
   "cell_type": "code",
   "execution_count": null,
   "id": "20d75b44",
   "metadata": {},
   "outputs": [],
   "source": []
  }
 ],
 "metadata": {
  "kernelspec": {
   "display_name": "Python 3 (ipykernel)",
   "language": "python",
   "name": "python3"
  },
  "language_info": {
   "codemirror_mode": {
    "name": "ipython",
    "version": 3
   },
   "file_extension": ".py",
   "mimetype": "text/x-python",
   "name": "python",
   "nbconvert_exporter": "python",
   "pygments_lexer": "ipython3",
   "version": "3.9.13"
  }
 },
 "nbformat": 4,
 "nbformat_minor": 5
}
